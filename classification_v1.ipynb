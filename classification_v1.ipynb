{
  "nbformat": 4,
  "nbformat_minor": 0,
  "metadata": {
    "kernelspec": {
      "display_name": "Python 3",
      "language": "python",
      "name": "python3"
    },
    "language_info": {
      "codemirror_mode": {
        "name": "ipython",
        "version": 3
      },
      "file_extension": ".py",
      "mimetype": "text/x-python",
      "name": "python",
      "nbconvert_exporter": "python",
      "pygments_lexer": "ipython3",
      "version": "3.7.1"
    },
    "colab": {
      "name": "classification.ipynb",
      "provenance": []
    }
  },
  "cells": [
    {
      "cell_type": "code",
      "metadata": {
        "id": "CLUFPzSl212G",
        "colab_type": "code",
        "outputId": "8fbccea8-3799-4788-df2c-0d8711a665b5",
        "colab": {
          "base_uri": "https://localhost:8080/",
          "height": 124
        }
      },
      "source": [
        "from google.colab import drive\n",
        "drive.mount('/content/drive',force_remount=True)"
      ],
      "execution_count": 1,
      "outputs": [
        {
          "output_type": "stream",
          "text": [
            "Go to this URL in a browser: https://accounts.google.com/o/oauth2/auth?client_id=947318989803-6bn6qk8qdgf4n4g3pfee6491hc0brc4i.apps.googleusercontent.com&redirect_uri=urn%3aietf%3awg%3aoauth%3a2.0%3aoob&response_type=code&scope=email%20https%3a%2f%2fwww.googleapis.com%2fauth%2fdocs.test%20https%3a%2f%2fwww.googleapis.com%2fauth%2fdrive%20https%3a%2f%2fwww.googleapis.com%2fauth%2fdrive.photos.readonly%20https%3a%2f%2fwww.googleapis.com%2fauth%2fpeopleapi.readonly\n",
            "\n",
            "Enter your authorization code:\n",
            "··········\n",
            "Mounted at /content/drive\n"
          ],
          "name": "stdout"
        }
      ]
    },
    {
      "cell_type": "code",
      "metadata": {
        "id": "NDh3j19J4FZz",
        "colab_type": "code",
        "outputId": "3840e42b-98e7-487c-9c61-b63797551280",
        "colab": {
          "base_uri": "https://localhost:8080/",
          "height": 711
        }
      },
      "source": [
        "!pip install wfdb\n",
        "!pip install mne\n"
      ],
      "execution_count": 2,
      "outputs": [
        {
          "output_type": "stream",
          "text": [
            "Collecting wfdb\n",
            "\u001b[?25l  Downloading https://files.pythonhosted.org/packages/b2/96/c2200539fdf4f087e14d30ed62a66544b6f441196bcb8ecc7a29ec6503b9/wfdb-2.2.1.tar.gz (94kB)\n",
            "\u001b[K     |████████████████████████████████| 102kB 4.3MB/s \n",
            "\u001b[?25hCollecting nose>=1.3.7\n",
            "\u001b[?25l  Downloading https://files.pythonhosted.org/packages/15/d8/dd071918c040f50fa1cf80da16423af51ff8ce4a0f2399b7bf8de45ac3d9/nose-1.3.7-py3-none-any.whl (154kB)\n",
            "\u001b[K     |████████████████████████████████| 163kB 16.7MB/s \n",
            "\u001b[?25hRequirement already satisfied: numpy>=1.11.0 in /usr/local/lib/python3.6/dist-packages (from wfdb) (1.17.4)\n",
            "Requirement already satisfied: matplotlib>=1.5.1 in /usr/local/lib/python3.6/dist-packages (from wfdb) (3.1.2)\n",
            "Requirement already satisfied: requests>=2.10.0 in /usr/local/lib/python3.6/dist-packages (from wfdb) (2.21.0)\n",
            "Requirement already satisfied: pandas>=0.19.1 in /usr/local/lib/python3.6/dist-packages (from wfdb) (0.25.3)\n",
            "Requirement already satisfied: scipy>=0.19.0 in /usr/local/lib/python3.6/dist-packages (from wfdb) (1.3.3)\n",
            "Requirement already satisfied: sklearn>=0.0 in /usr/local/lib/python3.6/dist-packages (from wfdb) (0.0)\n",
            "Requirement already satisfied: cycler>=0.10 in /usr/local/lib/python3.6/dist-packages (from matplotlib>=1.5.1->wfdb) (0.10.0)\n",
            "Requirement already satisfied: kiwisolver>=1.0.1 in /usr/local/lib/python3.6/dist-packages (from matplotlib>=1.5.1->wfdb) (1.1.0)\n",
            "Requirement already satisfied: python-dateutil>=2.1 in /usr/local/lib/python3.6/dist-packages (from matplotlib>=1.5.1->wfdb) (2.6.1)\n",
            "Requirement already satisfied: pyparsing!=2.0.4,!=2.1.2,!=2.1.6,>=2.0.1 in /usr/local/lib/python3.6/dist-packages (from matplotlib>=1.5.1->wfdb) (2.4.5)\n",
            "Requirement already satisfied: idna<2.9,>=2.5 in /usr/local/lib/python3.6/dist-packages (from requests>=2.10.0->wfdb) (2.8)\n",
            "Requirement already satisfied: certifi>=2017.4.17 in /usr/local/lib/python3.6/dist-packages (from requests>=2.10.0->wfdb) (2019.11.28)\n",
            "Requirement already satisfied: urllib3<1.25,>=1.21.1 in /usr/local/lib/python3.6/dist-packages (from requests>=2.10.0->wfdb) (1.24.3)\n",
            "Requirement already satisfied: chardet<3.1.0,>=3.0.2 in /usr/local/lib/python3.6/dist-packages (from requests>=2.10.0->wfdb) (3.0.4)\n",
            "Requirement already satisfied: pytz>=2017.2 in /usr/local/lib/python3.6/dist-packages (from pandas>=0.19.1->wfdb) (2018.9)\n",
            "Requirement already satisfied: scikit-learn in /usr/local/lib/python3.6/dist-packages (from sklearn>=0.0->wfdb) (0.21.3)\n",
            "Requirement already satisfied: six in /usr/local/lib/python3.6/dist-packages (from cycler>=0.10->matplotlib>=1.5.1->wfdb) (1.12.0)\n",
            "Requirement already satisfied: setuptools in /usr/local/lib/python3.6/dist-packages (from kiwisolver>=1.0.1->matplotlib>=1.5.1->wfdb) (42.0.2)\n",
            "Requirement already satisfied: joblib>=0.11 in /usr/local/lib/python3.6/dist-packages (from scikit-learn->sklearn>=0.0->wfdb) (0.14.1)\n",
            "Building wheels for collected packages: wfdb\n",
            "  Building wheel for wfdb (setup.py) ... \u001b[?25l\u001b[?25hdone\n",
            "  Created wheel for wfdb: filename=wfdb-2.2.1-cp36-none-any.whl size=100368 sha256=2f36d8db094c6deda02fbc969e76bae058009a32eb31059a0c2421b8feb0c284\n",
            "  Stored in directory: /root/.cache/pip/wheels/bb/a9/00/0078d26b0c15b31be0001af8eb659496709c361c69641303f1\n",
            "Successfully built wfdb\n",
            "Installing collected packages: nose, wfdb\n",
            "Successfully installed nose-1.3.7 wfdb-2.2.1\n",
            "Collecting mne\n",
            "\u001b[?25l  Downloading https://files.pythonhosted.org/packages/a1/7c/ad1b52a3fdd4be8f55e183f1eff7d76f48cd1bee83c5630f9c26770e032e/mne-0.19.2-py3-none-any.whl (6.4MB)\n",
            "\u001b[K     |████████████████████████████████| 6.4MB 4.1MB/s \n",
            "\u001b[?25hRequirement already satisfied: scipy>=0.17.1 in /usr/local/lib/python3.6/dist-packages (from mne) (1.3.3)\n",
            "Requirement already satisfied: numpy>=1.11.3 in /usr/local/lib/python3.6/dist-packages (from mne) (1.17.4)\n",
            "Installing collected packages: mne\n",
            "Successfully installed mne-0.19.2\n"
          ],
          "name": "stdout"
        }
      ]
    },
    {
      "cell_type": "code",
      "metadata": {
        "id": "BitRtTGT4Qyb",
        "colab_type": "code",
        "outputId": "2628bd75-87f2-42f9-9d93-a82287a7eeb0",
        "colab": {
          "base_uri": "https://localhost:8080/",
          "height": 400
        }
      },
      "source": [
        "\n",
        "!pip install git+https://github.com/forrestbao/pyeeg.git\n",
        "!pip install git+https://github.com/talhaanwarch/entropy.git\n"
      ],
      "execution_count": 3,
      "outputs": [
        {
          "output_type": "stream",
          "text": [
            "Collecting git+https://github.com/forrestbao/pyeeg.git\n",
            "  Cloning https://github.com/forrestbao/pyeeg.git to /tmp/pip-req-build-vfrmngu2\n",
            "  Running command git clone -q https://github.com/forrestbao/pyeeg.git /tmp/pip-req-build-vfrmngu2\n",
            "Requirement already satisfied: numpy>=1.9.2 in /usr/local/lib/python3.6/dist-packages (from pyeeg==0.4.4) (1.17.4)\n",
            "Building wheels for collected packages: pyeeg\n",
            "  Building wheel for pyeeg (setup.py) ... \u001b[?25l\u001b[?25hdone\n",
            "  Created wheel for pyeeg: filename=pyeeg-0.4.4-py2.py3-none-any.whl size=28121 sha256=aa4f79c9bdc60341978dd20a043aaff95b93cedec28c62ad5c469fd09a4e98fd\n",
            "  Stored in directory: /tmp/pip-ephem-wheel-cache-nxtfohfw/wheels/2d/3f/ad/106d4fc80b61d1ea1fc18e76e7439fd98aa043d83d58eae741\n",
            "Successfully built pyeeg\n",
            "Installing collected packages: pyeeg\n",
            "Successfully installed pyeeg-0.4.4\n",
            "Collecting git+https://github.com/talhaanwarch/entropy.git\n",
            "  Cloning https://github.com/talhaanwarch/entropy.git to /tmp/pip-req-build-8uydo598\n",
            "  Running command git clone -q https://github.com/talhaanwarch/entropy.git /tmp/pip-req-build-8uydo598\n",
            "Building wheels for collected packages: entropy\n",
            "  Building wheel for entropy (setup.py) ... \u001b[?25l\u001b[?25hdone\n",
            "  Created wheel for entropy: filename=entropy-0.1.1-cp36-none-any.whl size=15447 sha256=f59565ee5900311f2de148ee0af682f0e3d06632d522014b8115c56dea32db91\n",
            "  Stored in directory: /tmp/pip-ephem-wheel-cache-ihulz5tj/wheels/79/43/63/3fa9c8c5f03fe3a78d71c1aeedca9577f2f32fb2156ff9ecf8\n",
            "Successfully built entropy\n",
            "Installing collected packages: entropy\n",
            "Successfully installed entropy-0.1.1\n"
          ],
          "name": "stdout"
        }
      ]
    },
    {
      "cell_type": "code",
      "metadata": {
        "id": "M0d2K51X2255",
        "colab_type": "code",
        "outputId": "dcb2677c-08ae-4403-ac97-6fa34eb43a21",
        "colab": {
          "base_uri": "https://localhost:8080/",
          "height": 34
        }
      },
      "source": [
        "cd /content/drive/My Drive/dataset/schizophrenia16"
      ],
      "execution_count": 4,
      "outputs": [
        {
          "output_type": "stream",
          "text": [
            "/content/drive/My Drive/dataset/schizophrenia16\n"
          ],
          "name": "stdout"
        }
      ]
    },
    {
      "cell_type": "code",
      "metadata": {
        "id": "c4VF2wMU2a9c",
        "colab_type": "code",
        "colab": {}
      },
      "source": [
        "import numpy as np\n",
        "from glob import glob"
      ],
      "execution_count": 0,
      "outputs": []
    },
    {
      "cell_type": "code",
      "metadata": {
        "id": "65gRe7Tm2a9j",
        "colab_type": "code",
        "colab": {}
      },
      "source": [
        "import pickle\n",
        "import numpy as np\n",
        "from sklearn import metrics\n",
        "from sklearn.model_selection import train_test_split\n",
        "from sklearn.preprocessing import StandardScaler,MaxAbsScaler\n",
        "from sklearn.svm import SVC\n",
        "from sklearn.linear_model import LogisticRegression\n",
        "from sklearn.neighbors import KNeighborsClassifier"
      ],
      "execution_count": 0,
      "outputs": []
    },
    {
      "cell_type": "code",
      "metadata": {
        "id": "841F2uFr2a9m",
        "colab_type": "code",
        "colab": {}
      },
      "source": [
        "from sklearn.metrics import accuracy_score, log_loss\n",
        "from sklearn.neighbors import KNeighborsClassifier\n",
        "from sklearn.svm import SVC, LinearSVC, NuSVC\n",
        "from sklearn.tree import DecisionTreeClassifier\n",
        "from sklearn.ensemble import RandomForestClassifier, AdaBoostClassifier, GradientBoostingClassifier\n",
        "from sklearn.naive_bayes import GaussianNB\n",
        "from sklearn.discriminant_analysis import LinearDiscriminantAnalysis\n",
        "from sklearn.discriminant_analysis import QuadraticDiscriminantAnalysis\n",
        "from sklearn.linear_model import LogisticRegression\n",
        "import pandas as pd\n",
        "from sklearn.metrics import f1_score\n",
        "from sklearn.model_selection import cross_val_score\n",
        "import matplotlib.pyplot as plt\n",
        "from sklearn.decomposition import PCA\n",
        "from scipy import signal\n"
      ],
      "execution_count": 0,
      "outputs": []
    },
    {
      "cell_type": "markdown",
      "metadata": {
        "id": "HrcQgBt6_2M4",
        "colab_type": "text"
      },
      "source": [
        "# Read Data"
      ]
    },
    {
      "cell_type": "code",
      "metadata": {
        "id": "Rt8pWOAitjNK",
        "colab_type": "code",
        "outputId": "bb06e574-cd4e-4a57-ffe9-be9ef1531822",
        "colab": {
          "base_uri": "https://localhost:8080/",
          "height": 69
        }
      },
      "source": [
        "import numpy as np\n",
        "x=np.array([1,2,3,4,5,6,7,8,9,10])\n",
        "#first 5 represent one columns, next 5 represent next column\n",
        "y=x.reshape(-1,5)\n",
        "print(x)\n",
        "print(y)\n",
        "#http://brain.bio.msu.ru/eeg_schizophrenia.htm"
      ],
      "execution_count": 8,
      "outputs": [
        {
          "output_type": "stream",
          "text": [
            "[ 1  2  3  4  5  6  7  8  9 10]\n",
            "[[ 1  2  3  4  5]\n",
            " [ 6  7  8  9 10]]\n"
          ],
          "name": "stdout"
        }
      ]
    },
    {
      "cell_type": "code",
      "metadata": {
        "id": "PfTkTDcJ2a94",
        "colab_type": "code",
        "colab": {}
      },
      "source": [
        "HC_path=glob('norm/*.eea')\n",
        "SZ_path=glob('sch/*.eea')"
      ],
      "execution_count": 0,
      "outputs": []
    },
    {
      "cell_type": "code",
      "metadata": {
        "id": "N6X4qK34EicD",
        "colab_type": "code",
        "colab": {}
      },
      "source": [
        "from scipy import signal\n",
        "nyq = 0.5 * 128\n",
        "l=0.2\n",
        "low = l / nyq\n",
        "high = 45 / nyq\n",
        "b, a = signal.butter(4, [low,high], 'band')\n",
        "#pca=PCA(6)"
      ],
      "execution_count": 0,
      "outputs": []
    },
    {
      "cell_type": "code",
      "metadata": {
        "id": "b8p6dZ1T2a97",
        "colab_type": "code",
        "colab": {}
      },
      "source": [
        "HC=[]#trialxsample x channels\n",
        "for i in HC_path:\n",
        "    data=np.loadtxt(i)\n",
        "    data=data.reshape(-1,7680) #datapoints x columns\n",
        "    # Tranpose is taken becz data should be columns into sample points\n",
        "    data=signal.filtfilt(b, a, data) \n",
        "    data=data.reshape(data.shape[0],-1,512).T\n",
        "    data=np.swapaxes(data,0,1)\n",
        "    HC.append(data)\n",
        "# (122880,)\n",
        "# (16, 7680)\n",
        "# (16, 7680)\n",
        "# (512, 15, 16)\n",
        "# (15, 512, 16)"
      ],
      "execution_count": 0,
      "outputs": []
    },
    {
      "cell_type": "code",
      "metadata": {
        "id": "TDG2yOdT2a-A",
        "colab_type": "code",
        "colab": {}
      },
      "source": [
        "SZ=[]\n",
        "for i in SZ_path:\n",
        "    data=np.loadtxt(i)\n",
        "    data=data.reshape(-1,7680) #datapoints x columns\n",
        "    # Tranpose is taken becz data should be columns into sample points\n",
        "    data=signal.filtfilt(b, a, data) \n",
        "    data=data.reshape(data.shape[0],-1,512).T\n",
        "    data=np.swapaxes(data,0,1)\n",
        "    SZ.append(data)"
      ],
      "execution_count": 0,
      "outputs": []
    },
    {
      "cell_type": "code",
      "metadata": {
        "id": "dV0kGnK04cAQ",
        "colab_type": "code",
        "outputId": "3efb05ae-54d1-4e04-b06c-796af0ae51f0",
        "colab": {
          "base_uri": "https://localhost:8080/",
          "height": 34
        }
      },
      "source": [
        "data.shape"
      ],
      "execution_count": 13,
      "outputs": [
        {
          "output_type": "execute_result",
          "data": {
            "text/plain": [
              "(15, 512, 16)"
            ]
          },
          "metadata": {
            "tags": []
          },
          "execution_count": 13
        }
      ]
    },
    {
      "cell_type": "code",
      "metadata": {
        "id": "hAPj73rQ2a-D",
        "colab_type": "code",
        "outputId": "3b97ff8b-c1fb-4945-b4d9-184552cabb13",
        "colab": {
          "base_uri": "https://localhost:8080/",
          "height": 34
        }
      },
      "source": [
        "HC[0].shape,SZ[0].shape"
      ],
      "execution_count": 14,
      "outputs": [
        {
          "output_type": "execute_result",
          "data": {
            "text/plain": [
              "((15, 512, 16), (15, 512, 16))"
            ]
          },
          "metadata": {
            "tags": []
          },
          "execution_count": 14
        }
      ]
    },
    {
      "cell_type": "markdown",
      "metadata": {
        "id": "f5ryNeW52a-G",
        "colab_type": "text"
      },
      "source": [
        "# Feature Calculation"
      ]
    },
    {
      "cell_type": "code",
      "metadata": {
        "id": "o8C0CXGb2a-H",
        "colab_type": "code",
        "colab": {}
      },
      "source": [
        "from scipy import stats\n",
        "import pyeeg\n",
        "from entropy import *\n",
        "def mean(data):\n",
        "    return np.mean(data,axis=0)\n",
        "    \n",
        "def std(data):\n",
        "    return np.std(data,axis=0)\n",
        "\n",
        "def ptp(data):\n",
        "    return np.ptp(data,axis=0)\n",
        "\n",
        "def var(data):\n",
        "        return np.var(data,axis=0)\n",
        "\n",
        "def minim(data):\n",
        "      return np.min(data,axis=0)\n",
        "\n",
        "\n",
        "def maxim(data):\n",
        "      return np.max(data,axis=0)\n",
        "\n",
        "\n",
        "def mean_square(data):\n",
        "      return np.mean(data**2,axis=0)\n",
        "\n",
        "def rms(data): #root mean square\n",
        "      return  np.sqrt(np.mean(data**2,axis=0))  \n",
        "\n",
        "def abs_diffs_signal(data):\n",
        "    return np.sum(np.abs(np.diff(data,axis=0)),axis=0)\n",
        "\n",
        "\n",
        "def skewness(data):\n",
        "    return stats.skew(data,axis=0)\n",
        "\n",
        "def kurtosis(data):\n",
        "    return stats.kurtosis(data,axis=0)\n",
        "\n",
        "def zero_crossing(data):\n",
        "    return np.argmax(np.diff(np.sign(data),axis=0),axis=0)\n",
        "\n",
        "def app_epy(data):\n",
        "    result=[]\n",
        "    for i in data.T:\n",
        "        result.append(app_entropy(i, order=2, metric='chebyshev'))\n",
        "    return np.array(result)\n",
        "\n",
        "def perm_epy(data):\n",
        "    result=[]\n",
        "    for i in data.T:\n",
        "        result.append(perm_entropy(i, order=3, normalize=True))\n",
        "    return np.array(result)\n",
        "\n",
        "def svd_epy(data):\n",
        "    result=[]\n",
        "    for i in data.T:\n",
        "        result.append(svd_entropy(i, order=3, delay=1, normalize=True))\n",
        "    return np.array(result)\n",
        "\n",
        "def spectral_epy(data):\n",
        "    result=[]\n",
        "    for i in data.T:\n",
        "        result.append(spectral_entropy(i, 100, method='welch', normalize=True))\n",
        "    return np.array(result)\n",
        "\n",
        "def sample_epy(data):\n",
        "    result=[]\n",
        "    for i in data.T:\n",
        "        result.append(sample_entropy(i, order=2, metric='chebyshev'))\n",
        "    return np.array(result)\n",
        "\n",
        "\n",
        "def katz(data):\n",
        "    result=[]\n",
        "    for i in data.T:\n",
        "        result.append(katz_fd(i))\n",
        "    return np.array(result)\n",
        "\n",
        "def higuchi(data):\n",
        "    result=[]\n",
        "    for i in data.T:\n",
        "        result.append(higuchi_fd(i))\n",
        "    return np.array(result)\n",
        "\n",
        "\n",
        "def petrosian(data):\n",
        "    result=[]\n",
        "    for i in data.T:\n",
        "        result.append(petrosian_fd(i))\n",
        "    return np.array(result)\n",
        "\n",
        "def autogressiveModelParameters(data):\n",
        "    feature = []\n",
        "    for i in data.T:\n",
        "        coeff, sig = alg.AR_est_YW(i, order=5)\n",
        "        feature.append(np.mean(coeff))\n",
        "    return np.array(feature)\n",
        "\n",
        "def teager(x):\n",
        "    for i in range(len(x)-1):\n",
        "        return x[i]**2 - (x[i-1]*x[i+1])\n",
        "\n",
        "\n",
        "        \n",
        "def hjorth_mobility(data):\n",
        "    return np.divide(np.std(np.diff(data,axis=0),axis=0),np.std(data,axis=0))\n",
        "\n",
        "def hjorth_complexity(data):\n",
        "    return np.divide(hjorth_mobility(np.diff(data,axis=0)),  hjorth_mobility(data))      \n",
        "\n",
        "\n",
        "\n",
        "\n",
        "def concatenate_features(data):\n",
        "    return np.concatenate((mean(data),std(data),ptp(data),var(data),minim(data),maxim(data),\n",
        "                          mean_square(data),rms(data),abs_diffs_signal(data),\n",
        "                          skewness(data),kurtosis(data),zero_crossing(data),\n",
        "                          app_epy(data),perm_epy(data),svd_epy(data),spectral_epy(data),sample_epy(data),\n",
        "                          katz(data),higuchi(data),petrosian(data),\n",
        "                          hjorth_mobility(data),hjorth_complexity(data)),axis=0)"
      ],
      "execution_count": 0,
      "outputs": []
    },
    {
      "cell_type": "code",
      "metadata": {
        "id": "4cGUc_pg2a-L",
        "colab_type": "code",
        "colab": {}
      },
      "source": [
        "features1=[]\n",
        "for f in HC:\n",
        "    feature=[]\n",
        "    for i in f:\n",
        "        feature.append(concatenate_features(i))\n",
        "    features1.append(np.mean(np.array(feature),axis=0))\n",
        "    "
      ],
      "execution_count": 0,
      "outputs": []
    },
    {
      "cell_type": "code",
      "metadata": {
        "id": "jx7_uedy2a-O",
        "colab_type": "code",
        "colab": {}
      },
      "source": [
        "\n",
        "features2=[]\n",
        "for f in SZ:\n",
        "    feature=[]\n",
        "    for i in f:\n",
        "        feature.append(concatenate_features(i))\n",
        "    features2.append(np.mean(np.array(feature),axis=0))"
      ],
      "execution_count": 0,
      "outputs": []
    },
    {
      "cell_type": "code",
      "metadata": {
        "id": "UJvSX8Q52a-R",
        "colab_type": "code",
        "colab": {}
      },
      "source": [
        "x1=np.array(features1)        \n",
        "x2=np.array(features2)      \n",
        "\n",
        "X=np.concatenate((x1,x2),axis=0)\n",
        "y=np.concatenate(((np.zeros(x1.shape[0])),(np.ones(x2.shape[0]))))\n"
      ],
      "execution_count": 0,
      "outputs": []
    },
    {
      "cell_type": "code",
      "metadata": {
        "id": "3jWa8KlQ5DDN",
        "colab_type": "code",
        "outputId": "4a8bfdce-969a-4072-a90b-00be775687e4",
        "colab": {
          "base_uri": "https://localhost:8080/",
          "height": 34
        }
      },
      "source": [
        "X.shape,y.shape"
      ],
      "execution_count": 112,
      "outputs": [
        {
          "output_type": "execute_result",
          "data": {
            "text/plain": [
              "((84, 352), (84,))"
            ]
          },
          "metadata": {
            "tags": []
          },
          "execution_count": 112
        }
      ]
    },
    {
      "cell_type": "markdown",
      "metadata": {
        "id": "92vi6x2f2a-Y",
        "colab_type": "text"
      },
      "source": [
        "# Classification"
      ]
    },
    {
      "cell_type": "code",
      "metadata": {
        "id": "UgzccMU72a-Z",
        "colab_type": "code",
        "colab": {}
      },
      "source": [
        "X_train, X_test, y_train, y_test = train_test_split(X, y,test_size=0.3, random_state=42,stratify=y)"
      ],
      "execution_count": 0,
      "outputs": []
    },
    {
      "cell_type": "code",
      "metadata": {
        "id": "_-Csl0t32a-d",
        "colab_type": "code",
        "colab": {}
      },
      "source": [
        "sc=StandardScaler()\n",
        "X_train=sc.fit_transform(X_train)\n",
        "X_test=sc.transform(X_test)"
      ],
      "execution_count": 0,
      "outputs": []
    },
    {
      "cell_type": "code",
      "metadata": {
        "scrolled": true,
        "id": "aHqVq1RG2a-g",
        "colab_type": "code",
        "outputId": "430c2651-d8b9-419b-c7fd-748f93ef76d7",
        "colab": {
          "base_uri": "https://localhost:8080/",
          "height": 190
        }
      },
      "source": [
        "clf=SVC()\n",
        "clf.fit(X_train,y_train)\n",
        "y_pred = clf.predict(X_test)\n",
        "\n",
        "from sklearn.metrics import classification_report,accuracy_score\n",
        "print(classification_report(y_test,y_pred))\n",
        "print('accuracy is ',accuracy_score(y_test, y_pred))"
      ],
      "execution_count": 115,
      "outputs": [
        {
          "output_type": "stream",
          "text": [
            "              precision    recall  f1-score   support\n",
            "\n",
            "         0.0       0.75      0.50      0.60        12\n",
            "         1.0       0.67      0.86      0.75        14\n",
            "\n",
            "    accuracy                           0.69        26\n",
            "   macro avg       0.71      0.68      0.68        26\n",
            "weighted avg       0.71      0.69      0.68        26\n",
            "\n",
            "accuracy is  0.6923076923076923\n"
          ],
          "name": "stdout"
        }
      ]
    },
    {
      "cell_type": "code",
      "metadata": {
        "id": "Iesyk-aw0I3T",
        "colab_type": "code",
        "colab": {}
      },
      "source": [
        "from sklearn.model_selection import cross_val_score\n",
        "from sklearn.pipeline import Pipeline"
      ],
      "execution_count": 0,
      "outputs": []
    },
    {
      "cell_type": "code",
      "metadata": {
        "id": "mSjLauly0qYY",
        "colab_type": "code",
        "outputId": "74137fc4-c0db-4832-f41d-113f07e3285a",
        "colab": {
          "base_uri": "https://localhost:8080/",
          "height": 34
        }
      },
      "source": [
        "scalar = StandardScaler()\n",
        "pipeline = Pipeline([('transformer', scalar), ('estimator', clf)])\n",
        "\n",
        "scores = cross_val_score(pipeline, X, y, cv =5)\n",
        "print('average accuracy : ',np.array(scores).mean(),np.std(np.array(scores)))\n"
      ],
      "execution_count": 117,
      "outputs": [
        {
          "output_type": "stream",
          "text": [
            "average accuracy :  0.6558823529411765 0.10506218293818675\n"
          ],
          "name": "stdout"
        }
      ]
    },
    {
      "cell_type": "code",
      "metadata": {
        "id": "ThdOjd5q0vhp",
        "colab_type": "code",
        "colab": {
          "base_uri": "https://localhost:8080/",
          "height": 52
        },
        "outputId": "6ea54932-ad95-4213-fef5-a84924acdb65"
      },
      "source": [
        "from sklearn.model_selection import GridSearchCV\n",
        "from sklearn.pipeline import Pipeline\n",
        "\n",
        "clf = SVC(kernel=\"rbf\")\n",
        "Cs = [ 1,2,3,5,7,10,15,30,50,70,100]\n",
        "gammas = [0.001,0.01,0.02,0.03,0.04,0.05,0.1,0.3,0.5,0.8,1]\n",
        "pipe = Pipeline(steps=[('scaler', sc), ('classifier', clf)])\n",
        "estimator = GridSearchCV(pipe,\n",
        "                         dict(classifier__C=Cs,classifier__gamma=gammas),cv=5,n_jobs=-1,iid=False) \n",
        "\n",
        "results = estimator.fit(X,y)\n",
        "print(results.best_score_ )\n",
        "results.best_params_"
      ],
      "execution_count": 118,
      "outputs": [
        {
          "output_type": "stream",
          "text": [
            "0.7044117647058823\n"
          ],
          "name": "stdout"
        },
        {
          "output_type": "execute_result",
          "data": {
            "text/plain": [
              "{'classifier__C': 2, 'classifier__gamma': 0.01}"
            ]
          },
          "metadata": {
            "tags": []
          },
          "execution_count": 118
        }
      ]
    },
    {
      "cell_type": "code",
      "metadata": {
        "id": "GtlQCGV2xIsv",
        "colab_type": "code",
        "colab": {}
      },
      "source": [
        "ch=16"
      ],
      "execution_count": 0,
      "outputs": []
    },
    {
      "cell_type": "markdown",
      "metadata": {
        "id": "1ilVKM0cwbsp",
        "colab_type": "text"
      },
      "source": [
        "#Feature Selection"
      ]
    },
    {
      "cell_type": "code",
      "metadata": {
        "id": "3PPlrVXxGQD6",
        "colab_type": "code",
        "colab": {}
      },
      "source": [
        "X=np.concatenate((x1,x2),axis=0)\n",
        "y=np.concatenate(((np.zeros(x1.shape[0])),(np.ones(x2.shape[0]))))"
      ],
      "execution_count": 0,
      "outputs": []
    },
    {
      "cell_type": "code",
      "metadata": {
        "id": "LKEtc0WdweXp",
        "colab_type": "code",
        "colab": {}
      },
      "source": [
        "feature_list=['mean','std','ptp','var','minim','maxim','mean_square','rms','abs_diffs_signal','skewness','kurtosis','zero_crossing',\n",
        "'app_epy','perm_epy','svd_epy','spectral_epy','sample_epy','katz','higuchi','petrosian','hjorth_mobility','hjorth_complexity']"
      ],
      "execution_count": 0,
      "outputs": []
    },
    {
      "cell_type": "code",
      "metadata": {
        "id": "vSQRCn_Bwg-h",
        "colab_type": "code",
        "colab": {}
      },
      "source": [
        "\n",
        "classifiers = [\n",
        "    KNeighborsClassifier(),\n",
        "    SVC(kernel=\"rbf\"),\n",
        "    DecisionTreeClassifier(),\n",
        "    LogisticRegression()]"
      ],
      "execution_count": 0,
      "outputs": []
    },
    {
      "cell_type": "code",
      "metadata": {
        "id": "jYwsw1ykwmQL",
        "colab_type": "code",
        "colab": {}
      },
      "source": [
        "X_all=X.copy()\n",
        "y_all=y.copy()\n",
        "clf_feature_selected=[]\n",
        "for clf in classifiers:\n",
        "    feature_selected=[]\n",
        "    for i in range(100):\n",
        "        randomize = np.arange(len(X_all))\n",
        "        np.random.shuffle(randomize)\n",
        "        X_all = X_all[randomize]\n",
        "        y_all = y_all[randomize]\n",
        "        for i,j in zip(range(0,X_all.shape[1],ch),feature_list):\n",
        "            X_new=X_all[:,i:i+ch]\n",
        "            y_new=y_all.copy()\n",
        "            X_train, X_test, y_train, y_test = train_test_split(X_new, y_all,test_size=0.2, random_state=42,stratify=y_all)\n",
        "            sc=StandardScaler()\n",
        "            X_train=sc.fit_transform(X_train)\n",
        "            X_test=sc.transform(X_test)\n",
        "\n",
        "            clf.fit(X_train,y_train)\n",
        "            y_pred = clf.predict(X_test)  \n",
        "            acc=metrics.accuracy_score(y_test, y_pred)\n",
        "      #print(\"Accuracy of \",j,metrics.accuracy_score(y_test, y_pred))\n",
        "            if acc>0.8:\n",
        "                feature_selected.append(j)\n",
        "    clf_feature_selected.append(feature_selected)        \n",
        " # print('-------------------------------------------------------------------')"
      ],
      "execution_count": 0,
      "outputs": []
    },
    {
      "cell_type": "code",
      "metadata": {
        "id": "7uX_2M1BxCMq",
        "colab_type": "code",
        "outputId": "48b49746-6c29-4962-dc72-1036be021243",
        "colab": {
          "base_uri": "https://localhost:8080/",
          "height": 175
        }
      },
      "source": [
        "\n",
        "clf_list=['KNN','SVM','DT','LR']\n",
        "from collections import Counter\n",
        "clf_count=[]\n",
        "for i,j in zip(range(4),clf_list):\n",
        "    feature_selected=clf_feature_selected[i]\n",
        "    count= {x:feature_selected.count(x) for x in feature_selected}\n",
        "    c = Counter(count)\n",
        "    #print(c.most_common())\n",
        "    #clf_count.append(c.most_common(10))\n",
        "    print('==================================================================================================')\n",
        "    print(j,c.most_common(10))"
      ],
      "execution_count": 157,
      "outputs": [
        {
          "output_type": "stream",
          "text": [
            "==================================================================================================\n",
            "KNN [('minim', 8), ('spectral_epy', 7), ('abs_diffs_signal', 7), ('app_epy', 6), ('std', 5), ('rms', 5), ('petrosian', 5), ('hjorth_complexity', 5), ('var', 4), ('mean_square', 4)]\n",
            "==================================================================================================\n",
            "SVM [('hjorth_complexity', 15), ('svd_epy', 10), ('spectral_epy', 10), ('hjorth_mobility', 10), ('petrosian', 10), ('perm_epy', 9), ('higuchi', 8), ('kurtosis', 6), ('abs_diffs_signal', 6), ('app_epy', 5)]\n",
            "==================================================================================================\n",
            "DT [('hjorth_complexity', 16), ('spectral_epy', 7), ('katz', 6), ('var', 6), ('rms', 6), ('sample_epy', 5), ('std', 4), ('abs_diffs_signal', 4), ('minim', 3), ('mean_square', 3)]\n",
            "==================================================================================================\n",
            "LR [('hjorth_complexity', 29), ('perm_epy', 21), ('petrosian', 21), ('spectral_epy', 19), ('abs_diffs_signal', 17), ('app_epy', 10), ('sample_epy', 9), ('std', 8), ('rms', 8), ('hjorth_mobility', 8)]\n"
          ],
          "name": "stdout"
        }
      ]
    },
    {
      "cell_type": "code",
      "metadata": {
        "id": "ZJb3MBDVxIMf",
        "colab_type": "code",
        "colab": {}
      },
      "source": [
        "\n",
        "from collections import Counter\n",
        "clf_feature=[]\n",
        "for i in range(4):\n",
        "    feature_selected=clf_feature_selected[i]\n",
        "    count= {x:feature_selected.count(x) for x in feature_selected}\n",
        "    c = Counter(count)\n",
        "   # c={k: v / total for total in (sum(c.values(), 0.0),) for k, v in c.items()}\n",
        "\n",
        "    for k,v in c.items():\n",
        "        if v>3:\n",
        "            clf_feature.append(k)"
      ],
      "execution_count": 0,
      "outputs": []
    },
    {
      "cell_type": "code",
      "metadata": {
        "id": "ff_M_958xJeA",
        "colab_type": "code",
        "outputId": "3a8fbda5-2d1c-4eb8-b8af-f6002449fbd5",
        "colab": {
          "base_uri": "https://localhost:8080/",
          "height": 89
        }
      },
      "source": [
        "\n",
        "count= {x:clf_feature.count(x) for x in clf_feature}\n",
        "c = Counter(count)\n",
        "print(c.most_common())\n",
        "good_feature=[]\n",
        "for i in range(len(c.keys())):\n",
        "      good_feature.append(c.most_common()[i][0])\n",
        "print('===============================================================================================================')\n",
        "print(good_feature)"
      ],
      "execution_count": 159,
      "outputs": [
        {
          "output_type": "stream",
          "text": [
            "[('std', 4), ('rms', 4), ('hjorth_complexity', 4), ('spectral_epy', 4), ('abs_diffs_signal', 4), ('app_epy', 3), ('petrosian', 3), ('var', 3), ('maxim', 3), ('sample_epy', 3), ('katz', 3), ('minim', 2), ('mean_square', 2), ('higuchi', 2), ('svd_epy', 2), ('hjorth_mobility', 2), ('perm_epy', 2), ('ptp', 2), ('kurtosis', 1), ('skewness', 1)]\n",
            "===============================================================================================================\n",
            "['std', 'rms', 'hjorth_complexity', 'spectral_epy', 'abs_diffs_signal', 'app_epy', 'petrosian', 'var', 'maxim', 'sample_epy', 'katz', 'minim', 'mean_square', 'higuchi', 'svd_epy', 'hjorth_mobility', 'perm_epy', 'ptp', 'kurtosis', 'skewness']\n"
          ],
          "name": "stdout"
        }
      ]
    },
    {
      "cell_type": "code",
      "metadata": {
        "id": "Ksx9XancxN_l",
        "colab_type": "code",
        "outputId": "b9f648b0-e81a-47b1-e70c-e113a82fb720",
        "colab": {
          "base_uri": "https://localhost:8080/",
          "height": 363
        }
      },
      "source": [
        "\n",
        "X_good=[]\n",
        "for key,val in zip(feature_list,range(0,X.shape[1],16)):\n",
        "    for fe in good_feature:\n",
        "        if key==fe:     \n",
        "            print('key',key,'value',val,\":\",val+16) \n",
        "            X_good.append(X[:,val:val+16])"
      ],
      "execution_count": 160,
      "outputs": [
        {
          "output_type": "stream",
          "text": [
            "key std value 16 : 32\n",
            "key ptp value 32 : 48\n",
            "key var value 48 : 64\n",
            "key minim value 64 : 80\n",
            "key maxim value 80 : 96\n",
            "key mean_square value 96 : 112\n",
            "key rms value 112 : 128\n",
            "key abs_diffs_signal value 128 : 144\n",
            "key skewness value 144 : 160\n",
            "key kurtosis value 160 : 176\n",
            "key app_epy value 192 : 208\n",
            "key perm_epy value 208 : 224\n",
            "key svd_epy value 224 : 240\n",
            "key spectral_epy value 240 : 256\n",
            "key sample_epy value 256 : 272\n",
            "key katz value 272 : 288\n",
            "key higuchi value 288 : 304\n",
            "key petrosian value 304 : 320\n",
            "key hjorth_mobility value 320 : 336\n",
            "key hjorth_complexity value 336 : 352\n"
          ],
          "name": "stdout"
        }
      ]
    },
    {
      "cell_type": "code",
      "metadata": {
        "id": "j0fOCEyVxOcu",
        "colab_type": "code",
        "colab": {}
      },
      "source": [
        "\n",
        "X=np.concatenate((X_good),axis=1)\n"
      ],
      "execution_count": 0,
      "outputs": []
    },
    {
      "cell_type": "markdown",
      "metadata": {
        "id": "eFXMlK6y4nJl",
        "colab_type": "text"
      },
      "source": [
        "# Tuning"
      ]
    },
    {
      "cell_type": "code",
      "metadata": {
        "id": "NFHnpghp4ouW",
        "colab_type": "code",
        "outputId": "a3e92845-5a5d-4a48-9fb8-c4e0cad9ad6e",
        "colab": {
          "base_uri": "https://localhost:8080/",
          "height": 52
        }
      },
      "source": [
        "from sklearn.model_selection import GridSearchCV\n",
        "from sklearn.pipeline import Pipeline\n",
        "\n",
        "clf = SVC(kernel=\"rbf\")\n",
        "Cs = [ 1,2,3,5,7,10,15,30,50,70,100]\n",
        "gammas = [0.001,0.01,0.02,0.03,0.04,0.05,0.1,0.3,0.5,0.8,1]\n",
        "pipe = Pipeline(steps=[('scaler', sc), ('classifier', clf)])\n",
        "estimator = GridSearchCV(pipe,\n",
        "                         dict(classifier__C=Cs,classifier__gamma=gammas),cv=5,n_jobs=-1,iid=False) \n",
        "\n",
        "results = estimator.fit(X,y)\n",
        "print(results.best_score_ )\n",
        "results.best_params_"
      ],
      "execution_count": 162,
      "outputs": [
        {
          "output_type": "stream",
          "text": [
            "0.7735294117647058\n"
          ],
          "name": "stdout"
        },
        {
          "output_type": "execute_result",
          "data": {
            "text/plain": [
              "{'classifier__C': 15, 'classifier__gamma': 0.001}"
            ]
          },
          "metadata": {
            "tags": []
          },
          "execution_count": 162
        }
      ]
    },
    {
      "cell_type": "markdown",
      "metadata": {
        "id": "w1SPkcT15ctM",
        "colab_type": "text"
      },
      "source": [
        "### NuSVM"
      ]
    },
    {
      "cell_type": "code",
      "metadata": {
        "id": "oY8iAgrC5d4o",
        "colab_type": "code",
        "outputId": "83ff0b03-36be-433d-b0d9-6b2d0efacc67",
        "colab": {
          "base_uri": "https://localhost:8080/",
          "height": 52
        }
      },
      "source": [
        "from sklearn.svm import SVC, LinearSVC, NuSVC\n",
        "\n",
        "clf = NuSVC(kernel=\"rbf\")\n",
        "nu = [0.1,0.3,0.5,0.7]\n",
        "gammas = [0.001,0.01,0.02,0.03,0.04,0.05,0.1,0.3,0.5,0.8,1]\n",
        "pipe = Pipeline(steps=[('scaler', sc), ('classifier', clf)])\n",
        "estimator = GridSearchCV(pipe,\n",
        "                         dict(classifier__nu=nu,classifier__gamma=gammas),cv=5,n_jobs=-1,iid=False) \n",
        "\n",
        "results = estimator.fit(X,y)\n",
        "print(results.best_score_ )\n",
        "results.best_params_"
      ],
      "execution_count": 163,
      "outputs": [
        {
          "output_type": "stream",
          "text": [
            "0.7735294117647059\n"
          ],
          "name": "stdout"
        },
        {
          "output_type": "execute_result",
          "data": {
            "text/plain": [
              "{'classifier__gamma': 0.001, 'classifier__nu': 0.3}"
            ]
          },
          "metadata": {
            "tags": []
          },
          "execution_count": 163
        }
      ]
    },
    {
      "cell_type": "markdown",
      "metadata": {
        "id": "Cy_XSVAc5g7u",
        "colab_type": "text"
      },
      "source": [
        "### LR"
      ]
    },
    {
      "cell_type": "code",
      "metadata": {
        "id": "FY2EcC5w5h__",
        "colab_type": "code",
        "outputId": "45474433-acfb-44b8-d224-c96b6c1f925c",
        "colab": {
          "base_uri": "https://localhost:8080/",
          "height": 52
        }
      },
      "source": [
        "clf = LogisticRegression()\n",
        "C = [ 1,2,3,5,7,10,15,30,50,70,100]\n",
        "penalty=[\"l1\",\"l2\"]\n",
        "pipe = Pipeline(steps=[('scaler', sc), ('classifier', clf)])\n",
        "estimator = GridSearchCV(pipe,\n",
        "                         dict(classifier__C=C,classifier__penalty=penalty),cv=5,n_jobs=-1,iid=False) \n",
        "\n",
        "results = estimator.fit(X,y)\n",
        "print(results.best_score_ )\n",
        "results.best_params_"
      ],
      "execution_count": 164,
      "outputs": [
        {
          "output_type": "stream",
          "text": [
            "0.7257352941176471\n"
          ],
          "name": "stdout"
        },
        {
          "output_type": "execute_result",
          "data": {
            "text/plain": [
              "{'classifier__C': 50, 'classifier__penalty': 'l2'}"
            ]
          },
          "metadata": {
            "tags": []
          },
          "execution_count": 164
        }
      ]
    },
    {
      "cell_type": "markdown",
      "metadata": {
        "id": "DUCnuJK25bR-",
        "colab_type": "text"
      },
      "source": [
        "### KNN"
      ]
    },
    {
      "cell_type": "code",
      "metadata": {
        "id": "qmtHVZfA5Ooq",
        "colab_type": "code",
        "outputId": "a7b252a2-2ef3-491b-ef61-c463ccbe3f36",
        "colab": {
          "base_uri": "https://localhost:8080/",
          "height": 86
        }
      },
      "source": [
        "\n",
        "clf = KNeighborsClassifier()\n",
        "\n",
        "n_neighbors  = [ 3,4,5,6,7,8,9,11,13]\n",
        "weights  = ['uniform','distance']\n",
        "metric=['minkowski','manhattan','euclidean']\n",
        "pipe = Pipeline(steps=[('scaler', sc), ('classifier', clf)])\n",
        "estimator = GridSearchCV(pipe,\n",
        "                         dict(classifier__n_neighbors=n_neighbors,classifier__weights=weights,classifier__metric=metric),cv=5,n_jobs=-1,iid=False) \n",
        "results = estimator.fit(X,y)\n",
        "print(results.best_score_ )\n",
        "results.best_params_"
      ],
      "execution_count": 165,
      "outputs": [
        {
          "output_type": "stream",
          "text": [
            "0.7264705882352942\n"
          ],
          "name": "stdout"
        },
        {
          "output_type": "execute_result",
          "data": {
            "text/plain": [
              "{'classifier__metric': 'minkowski',\n",
              " 'classifier__n_neighbors': 4,\n",
              " 'classifier__weights': 'distance'}"
            ]
          },
          "metadata": {
            "tags": []
          },
          "execution_count": 165
        }
      ]
    },
    {
      "cell_type": "markdown",
      "metadata": {
        "id": "F43mLml3DaEE",
        "colab_type": "text"
      },
      "source": [
        "# Cross Validation"
      ]
    },
    {
      "cell_type": "code",
      "metadata": {
        "id": "aPu2-pvOEE1G",
        "colab_type": "code",
        "colab": {}
      },
      "source": [
        ""
      ],
      "execution_count": 0,
      "outputs": []
    },
    {
      "cell_type": "code",
      "metadata": {
        "id": "KqMYWYTSD5De",
        "colab_type": "code",
        "colab": {}
      },
      "source": [
        "classifiers = [\n",
        "    KNeighborsClassifier(n_neighbors=4,weights='distance',metric='minkowski'),\n",
        "    SVC(kernel=\"rbf\",C=15,gamma=0.001),\n",
        "    NuSVC(nu=0.3,gamma=0.001),\n",
        "    DecisionTreeClassifier(),\n",
        "    RandomForestClassifier(),\n",
        "    AdaBoostClassifier(),\n",
        "    GradientBoostingClassifier(),\n",
        "    GaussianNB(),\n",
        "    LinearDiscriminantAnalysis(),\n",
        "    QuadraticDiscriminantAnalysis(),\n",
        "    LogisticRegression(C=50,penalty='l2')]"
      ],
      "execution_count": 0,
      "outputs": []
    },
    {
      "cell_type": "code",
      "metadata": {
        "id": "SV8b98tzOKjM",
        "colab_type": "code",
        "colab": {}
      },
      "source": [
        "from sklearn.pipeline import Pipeline\n",
        "pipeline = Pipeline([('transformer', sc),('estimator', clf)])\n"
      ],
      "execution_count": 0,
      "outputs": []
    },
    {
      "cell_type": "code",
      "metadata": {
        "id": "KQqS9NjUD3Kc",
        "colab_type": "code",
        "outputId": "7c65763d-fe6a-4af1-f0d4-252b59bb7b1c",
        "colab": {
          "base_uri": "https://localhost:8080/",
          "height": 1000
        }
      },
      "source": [
        "import warnings\n",
        "warnings.simplefilter(action='ignore', category=FutureWarning)\n",
        "\n",
        "accuracy=[]\n",
        "accuracy_std=[]\n",
        "f1_scores=[]\n",
        "f1_scores_std=[]\n",
        "for clfs in classifiers:\n",
        "    pipeline.set_params(estimator = clfs)\n",
        "    name = clfs.__class__.__name__\n",
        "    \n",
        "    print(\"=\"*30)\n",
        "    print(name)       \n",
        "    print('****Results****')\n",
        "    scores = cross_val_score(pipeline, X, y, cv=5)\n",
        "    #f1_score = cross_val_score(clf, X_rfe, y, cv=5,scoring='f1')\n",
        "    print(\"Accuracy: {:.4%}\".format(np.array(scores).mean()))\n",
        "    accuracy.append(np.array(scores).mean())\n",
        "    accuracy_std.append(np.array(scores).std())\n",
        "    #f1_scores.append(np.array(f1_score).mean())\n",
        "    #f1_scores_std.append(np.array(f1_score).std())\n"
      ],
      "execution_count": 169,
      "outputs": [
        {
          "output_type": "stream",
          "text": [
            "==============================\n",
            "KNeighborsClassifier\n",
            "****Results****\n",
            "Accuracy: 72.6471%\n",
            "==============================\n",
            "SVC\n",
            "****Results****\n",
            "Accuracy: 77.3529%\n",
            "==============================\n",
            "NuSVC\n",
            "****Results****\n",
            "Accuracy: 77.3529%\n",
            "==============================\n",
            "DecisionTreeClassifier\n",
            "****Results****\n",
            "Accuracy: 75.2206%\n",
            "==============================\n",
            "RandomForestClassifier\n",
            "****Results****\n",
            "Accuracy: 77.5000%\n",
            "==============================\n",
            "AdaBoostClassifier\n",
            "****Results****\n",
            "Accuracy: 63.0882%\n",
            "==============================\n",
            "GradientBoostingClassifier\n",
            "****Results****\n",
            "Accuracy: 70.3676%\n",
            "==============================\n",
            "GaussianNB\n",
            "****Results****\n",
            "Accuracy: 64.2647%\n",
            "==============================\n",
            "LinearDiscriminantAnalysis\n",
            "****Results****\n",
            "Accuracy: 65.6618%\n",
            "==============================\n",
            "QuadraticDiscriminantAnalysis\n",
            "****Results****\n",
            "Accuracy: 46.3235%\n",
            "==============================\n",
            "LogisticRegression\n",
            "****Results****\n",
            "Accuracy: 72.5735%\n"
          ],
          "name": "stdout"
        },
        {
          "output_type": "stream",
          "text": [
            "/usr/local/lib/python3.6/dist-packages/sklearn/discriminant_analysis.py:388: UserWarning: Variables are collinear.\n",
            "  warnings.warn(\"Variables are collinear.\")\n",
            "/usr/local/lib/python3.6/dist-packages/sklearn/discriminant_analysis.py:388: UserWarning: Variables are collinear.\n",
            "  warnings.warn(\"Variables are collinear.\")\n",
            "/usr/local/lib/python3.6/dist-packages/sklearn/discriminant_analysis.py:388: UserWarning: Variables are collinear.\n",
            "  warnings.warn(\"Variables are collinear.\")\n",
            "/usr/local/lib/python3.6/dist-packages/sklearn/discriminant_analysis.py:388: UserWarning: Variables are collinear.\n",
            "  warnings.warn(\"Variables are collinear.\")\n",
            "/usr/local/lib/python3.6/dist-packages/sklearn/discriminant_analysis.py:388: UserWarning: Variables are collinear.\n",
            "  warnings.warn(\"Variables are collinear.\")\n",
            "/usr/local/lib/python3.6/dist-packages/sklearn/discriminant_analysis.py:693: UserWarning: Variables are collinear\n",
            "  warnings.warn(\"Variables are collinear\")\n",
            "/usr/local/lib/python3.6/dist-packages/sklearn/discriminant_analysis.py:693: UserWarning: Variables are collinear\n",
            "  warnings.warn(\"Variables are collinear\")\n",
            "/usr/local/lib/python3.6/dist-packages/sklearn/discriminant_analysis.py:693: UserWarning: Variables are collinear\n",
            "  warnings.warn(\"Variables are collinear\")\n",
            "/usr/local/lib/python3.6/dist-packages/sklearn/discriminant_analysis.py:693: UserWarning: Variables are collinear\n",
            "  warnings.warn(\"Variables are collinear\")\n",
            "/usr/local/lib/python3.6/dist-packages/sklearn/discriminant_analysis.py:693: UserWarning: Variables are collinear\n",
            "  warnings.warn(\"Variables are collinear\")\n"
          ],
          "name": "stderr"
        }
      ]
    },
    {
      "cell_type": "code",
      "metadata": {
        "id": "icpqu9V5D1EL",
        "colab_type": "code",
        "outputId": "46968a6a-3cce-4506-8b29-d5eca0ff824f",
        "colab": {
          "base_uri": "https://localhost:8080/",
          "height": 298
        }
      },
      "source": [
        "import matplotlib.pyplot as plt\n",
        "classifier=['KNN','SVC','nuSCV','DT','RF','Ada','GB','NB','LDA','QDA','LR']\n",
        "y_pos = np.arange(len(classifier))\n",
        "plt.bar(y_pos,np.array(accuracy))\n",
        "plt.xticks(y_pos, classifier)\n",
        "plt.ylabel('Accuracy')\n",
        "plt.title('Classifiers')"
      ],
      "execution_count": 170,
      "outputs": [
        {
          "output_type": "execute_result",
          "data": {
            "text/plain": [
              "Text(0.5, 1.0, 'Classifiers')"
            ]
          },
          "metadata": {
            "tags": []
          },
          "execution_count": 170
        },
        {
          "output_type": "display_data",
          "data": {
            "image/png": "[encoded data removed]",
            "text/plain": [
              "<Figure size 432x288 with 1 Axes>"
            ]
          },
          "metadata": {
            "tags": []
          }
        }
      ]
    },
    {
      "cell_type": "markdown",
      "metadata": {
        "id": "VBDXxRp2O5kO",
        "colab_type": "text"
      },
      "source": [
        "# Principle Component Analysis"
      ]
    },
    {
      "cell_type": "code",
      "metadata": {
        "id": "qGWFC54TO44u",
        "colab_type": "code",
        "outputId": "ef9166f3-b9cc-46bf-984d-9853ca1b1a89",
        "colab": {
          "base_uri": "https://localhost:8080/",
          "height": 295
        }
      },
      "source": [
        "from sklearn.decomposition import PCA\n",
        "import matplotlib.pyplot as plt\n",
        "from sklearn.decomposition import KernelPCA\n",
        "from sklearn.model_selection import cross_val_score\n",
        "\n",
        "#Fitting the PCA algorithm with our Data\n",
        "pca = PCA().fit(X_train)\n",
        "#Plotting the Cumulative Summation of the Explained Variance\n",
        "plt.figure()\n",
        "plt.plot(np.cumsum(pca.explained_variance_ratio_))\n",
        "plt.xlabel('Number of Components')\n",
        "plt.ylabel('Variance (%)') #for each component\n",
        "plt.title('EEG')\n",
        "plt.show()"
      ],
      "execution_count": 171,
      "outputs": [
        {
          "output_type": "display_data",
          "data": {
            "image/png": "[encoded data removed]",
            "text/plain": [
              "<Figure size 432x288 with 1 Axes>"
            ]
          },
          "metadata": {
            "tags": []
          }
        }
      ]
    },
    {
      "cell_type": "code",
      "metadata": {
        "id": "SN4VeHRtO__B",
        "colab_type": "code",
        "colab": {}
      },
      "source": [
        "\n"
      ],
      "execution_count": 0,
      "outputs": []
    },
    {
      "cell_type": "code",
      "metadata": {
        "colab_type": "code",
        "id": "2vhCPXYMohbm",
        "colab": {}
      },
      "source": [
        "clf = SVC(kernel='rbf')\n",
        "pca = PCA(n_components=10)\n",
        "\n",
        "#pipeline = Pipeline([('selector',pca), ('estimator', clf)])\n",
        "pipeline = Pipeline([('transformer', sc),('selector',pca), ('estimator', clf)])\n"
      ],
      "execution_count": 0,
      "outputs": []
    },
    {
      "cell_type": "code",
      "metadata": {
        "colab_type": "code",
        "id": "mA0HWAG4ohbq",
        "outputId": "24dbe905-6e01-4949-e4ea-151307845835",
        "colab": {
          "base_uri": "https://localhost:8080/",
          "height": 777
        }
      },
      "source": [
        "\n",
        "import warnings\n",
        "warnings.simplefilter(action='ignore', category=FutureWarning)\n",
        "\n",
        "accuracy_pca=[]\n",
        "std_pca=[]\n",
        "f1_scores=[]\n",
        "f1_scores_std=[]\n",
        "for clfs in classifiers:\n",
        "    pipeline.set_params(estimator = clfs)\n",
        "    name = clfs.__class__.__name__\n",
        "    \n",
        "    print(\"=\"*30)\n",
        "    print(name)       \n",
        "    print('****Results****')\n",
        "    scores = cross_val_score(pipeline, X, y, cv=5)\n",
        "    #f1_score = cross_val_score(clf, X_rfe, y, cv=5,scoring='f1')\n",
        "    print(\"Accuracy: {:.4%}\".format(np.array(scores).mean()))\n",
        "    accuracy_pca.append(np.array(scores).mean())\n",
        "    std_pca.append(np.array(scores).std())\n",
        "    #f1_scores.append(np.array(f1_score).mean())\n",
        "    #f1_scores_std.append(np.array(f1_score).std())\n"
      ],
      "execution_count": 173,
      "outputs": [
        {
          "output_type": "stream",
          "text": [
            "==============================\n",
            "KNeighborsClassifier\n",
            "****Results****\n",
            "Accuracy: 69.1912%\n",
            "==============================\n",
            "SVC\n",
            "****Results****\n",
            "Accuracy: 65.3676%\n",
            "==============================\n",
            "NuSVC\n",
            "****Results****\n",
            "Accuracy: 71.4706%\n",
            "==============================\n",
            "DecisionTreeClassifier\n",
            "****Results****\n",
            "Accuracy: 52.5735%\n",
            "==============================\n",
            "RandomForestClassifier\n",
            "****Results****\n",
            "Accuracy: 60.6618%\n",
            "==============================\n",
            "AdaBoostClassifier\n",
            "****Results****\n",
            "Accuracy: 66.7647%\n",
            "==============================\n",
            "GradientBoostingClassifier\n",
            "****Results****\n",
            "Accuracy: 65.6618%\n",
            "==============================\n",
            "GaussianNB\n",
            "****Results****\n",
            "Accuracy: 73.8971%\n",
            "==============================\n",
            "LinearDiscriminantAnalysis\n",
            "****Results****\n",
            "Accuracy: 63.2353%\n",
            "==============================\n",
            "QuadraticDiscriminantAnalysis\n",
            "****Results****\n",
            "Accuracy: 66.7647%\n",
            "==============================\n",
            "LogisticRegression\n",
            "****Results****\n",
            "Accuracy: 65.5147%\n"
          ],
          "name": "stdout"
        }
      ]
    },
    {
      "cell_type": "code",
      "metadata": {
        "id": "kejMrjKwEC03",
        "colab_type": "code",
        "outputId": "faf66809-e27e-4b8d-ff07-d5a45ec833d3",
        "colab": {
          "base_uri": "https://localhost:8080/",
          "height": 52
        }
      },
      "source": [
        "from sklearn.model_selection import GridSearchCV\n",
        "\n",
        "clf = SVC(kernel=\"rbf\")\n",
        "n_components = [5,10,15,20]\n",
        "Cs = [0.001,0.1, 1,2,3,5,7,10,15,30]\n",
        "gammas = [0.001,0.01,0.02,0.03,0.04,0.05,0.1,0.3,0.5,0.8,1]\n",
        "pipe = Pipeline(steps=[('scalar',sc),('selector', pca), ('classifier', clf)])\n",
        "estimator = GridSearchCV(pipe,\n",
        "                         dict(selector__n_components=n_components,\n",
        "                              classifier__C=Cs,classifier__gamma=gammas),cv=5,n_jobs=-1,iid=False) \n",
        "\n",
        "results = estimator.fit(X,y)\n",
        "print(results.best_score_ )\n",
        "results.best_params_"
      ],
      "execution_count": 174,
      "outputs": [
        {
          "output_type": "stream",
          "text": [
            "0.7492647058823529\n"
          ],
          "name": "stdout"
        },
        {
          "output_type": "execute_result",
          "data": {
            "text/plain": [
              "{'classifier__C': 30, 'classifier__gamma': 0.001, 'selector__n_components': 20}"
            ]
          },
          "metadata": {
            "tags": []
          },
          "execution_count": 174
        }
      ]
    },
    {
      "cell_type": "code",
      "metadata": {
        "id": "c2PaVKiKhAyf",
        "colab_type": "code",
        "outputId": "381c2414-8424-43ba-a48c-9860aa1a7aaf",
        "colab": {
          "base_uri": "https://localhost:8080/",
          "height": 104
        }
      },
      "source": [
        "from sklearn.model_selection import GridSearchCV\n",
        "\n",
        "clf = KNeighborsClassifier()\n",
        "n_components = [5,10,15,20]\n",
        "n_neighbors  = [ 3,4,5,6,7,8,9]\n",
        "weights  = ['uniform','distance']\n",
        "metric=['minkowski','manhattan','euclidean']\n",
        "pipe = Pipeline(steps=[('scalar',sc),('selector', pca), ('classifier', clf)])\n",
        "estimator = GridSearchCV(pipe,\n",
        "                         dict(selector__n_components=n_components,\n",
        "                              classifier__n_neighbors=n_neighbors,classifier__weights=weights,classifier__metric=metric),cv=5,n_jobs=-1,iid=False) \n",
        "\n",
        "results = estimator.fit(X,y)\n",
        "print(results.best_score_ )\n",
        "results.best_params_"
      ],
      "execution_count": 175,
      "outputs": [
        {
          "output_type": "stream",
          "text": [
            "0.7272058823529413\n"
          ],
          "name": "stdout"
        },
        {
          "output_type": "execute_result",
          "data": {
            "text/plain": [
              "{'classifier__metric': 'manhattan',\n",
              " 'classifier__n_neighbors': 3,\n",
              " 'classifier__weights': 'uniform',\n",
              " 'selector__n_components': 10}"
            ]
          },
          "metadata": {
            "tags": []
          },
          "execution_count": 175
        }
      ]
    },
    {
      "cell_type": "markdown",
      "metadata": {
        "id": "34K17oX2kI3Z",
        "colab_type": "text"
      },
      "source": [
        "# RFE"
      ]
    },
    {
      "cell_type": "code",
      "metadata": {
        "id": "Effk-fW1km3b",
        "colab_type": "code",
        "colab": {}
      },
      "source": [
        "from sklearn.feature_selection import RFE"
      ],
      "execution_count": 0,
      "outputs": []
    },
    {
      "cell_type": "code",
      "metadata": {
        "id": "X3joTTYvkPfz",
        "colab_type": "code",
        "colab": {}
      },
      "source": [
        "\n",
        "clf = SVC(kernel='rbf')\n",
        "rfe=RFE(SVC(kernel='linear'),n_features_to_select=5,step=1,verbose=0)   \n",
        "\n",
        "#pipeline = Pipeline([('selector',rfe), ('estimator', clf)])\n",
        "pipeline = Pipeline([('transformer', sc),('selector',rfe), ('estimator', clf)])\n"
      ],
      "execution_count": 0,
      "outputs": []
    },
    {
      "cell_type": "code",
      "metadata": {
        "id": "S37vDSnpkpi-",
        "colab_type": "code",
        "outputId": "567b8fcc-b035-4d82-9da9-438a188bf760",
        "colab": {
          "base_uri": "https://localhost:8080/",
          "height": 777
        }
      },
      "source": [
        "\n",
        "import warnings\n",
        "warnings.simplefilter(action='ignore', category=FutureWarning)\n",
        "\n",
        "accuracy_rfe=[]\n",
        "std_rfe=[]\n",
        "f1_scores=[]\n",
        "f1_scores_std=[]\n",
        "for clfs in classifiers:\n",
        "    pipeline.set_params(estimator = clfs)\n",
        "    name = clfs.__class__.__name__\n",
        "    \n",
        "    print(\"=\"*30)\n",
        "    print(name)       \n",
        "    print('****Results****')\n",
        "    scores = cross_val_score(pipeline, X, y, cv=5)\n",
        "    #f1_score = cross_val_score(clf, X_rfe, y, cv=5,scoring='f1')\n",
        "    print(\"Accuracy: {:.4%}\".format(np.array(scores).mean()))\n",
        "    accuracy_rfe.append(np.array(scores).mean())\n",
        "    std_rfe.append(np.array(scores).std())\n",
        "    #f1_scores.append(np.array(f1_score).mean())\n",
        "    #f1_scores_std.append(np.array(f1_score).std())\n"
      ],
      "execution_count": 178,
      "outputs": [
        {
          "output_type": "stream",
          "text": [
            "==============================\n",
            "KNeighborsClassifier\n",
            "****Results****\n",
            "Accuracy: 69.0441%\n",
            "==============================\n",
            "SVC\n",
            "****Results****\n",
            "Accuracy: 66.9118%\n",
            "==============================\n",
            "NuSVC\n",
            "****Results****\n",
            "Accuracy: 70.3676%\n",
            "==============================\n",
            "DecisionTreeClassifier\n",
            "****Results****\n",
            "Accuracy: 65.8088%\n",
            "==============================\n",
            "RandomForestClassifier\n",
            "****Results****\n",
            "Accuracy: 67.9412%\n",
            "==============================\n",
            "AdaBoostClassifier\n",
            "****Results****\n",
            "Accuracy: 68.8971%\n",
            "==============================\n",
            "GradientBoostingClassifier\n",
            "****Results****\n",
            "Accuracy: 64.3382%\n",
            "==============================\n",
            "GaussianNB\n",
            "****Results****\n",
            "Accuracy: 63.0147%\n",
            "==============================\n",
            "LinearDiscriminantAnalysis\n",
            "****Results****\n",
            "Accuracy: 71.4706%\n",
            "==============================\n",
            "QuadraticDiscriminantAnalysis\n",
            "****Results****\n",
            "Accuracy: 72.6471%\n",
            "==============================\n",
            "LogisticRegression\n",
            "****Results****\n",
            "Accuracy: 72.7941%\n"
          ],
          "name": "stdout"
        }
      ]
    },
    {
      "cell_type": "markdown",
      "metadata": {
        "id": "v5yNkL4arI5Z",
        "colab_type": "text"
      },
      "source": [
        "# SKbest"
      ]
    },
    {
      "cell_type": "code",
      "metadata": {
        "id": "-5wEC_ForKGR",
        "colab_type": "code",
        "colab": {}
      },
      "source": [
        "from sklearn.feature_selection import SelectKBest\n",
        "from sklearn.feature_selection import f_classif\n"
      ],
      "execution_count": 0,
      "outputs": []
    },
    {
      "cell_type": "code",
      "metadata": {
        "colab_type": "code",
        "id": "r5vNJstWrtCD",
        "colab": {}
      },
      "source": [
        "\n",
        "clf = SVC(kernel='rbf')\n",
        "skbest=SelectKBest(f_classif, k=10)\n",
        "#pipeline = Pipeline([('selector',skbest), ('estimator', clf)])\n",
        "pipeline = Pipeline([('transformer', sc),('selector',rfe), ('estimator', clf)])\n"
      ],
      "execution_count": 0,
      "outputs": []
    },
    {
      "cell_type": "code",
      "metadata": {
        "colab_type": "code",
        "id": "4VS9cTTirtCH",
        "outputId": "c18c0d32-9b27-420d-d1fe-4d629ca7dd0a",
        "colab": {
          "base_uri": "https://localhost:8080/",
          "height": 777
        }
      },
      "source": [
        "\n",
        "import warnings\n",
        "warnings.simplefilter(action='ignore', category=FutureWarning)\n",
        "\n",
        "accuracy_kbest=[]\n",
        "std_kbest=[]\n",
        "f1_scores=[]\n",
        "f1_scores_std=[]\n",
        "for clfs in classifiers:\n",
        "    pipeline.set_params(estimator = clfs)\n",
        "    name = clfs.__class__.__name__\n",
        "    \n",
        "    print(\"=\"*30)\n",
        "    print(name)       \n",
        "    print('****Results****')\n",
        "    scores = cross_val_score(pipeline, X, y, cv=5)\n",
        "    #f1_score = cross_val_score(clf, X_rfe, y, cv=5,scoring='f1')\n",
        "    print(\"Accuracy: {:.4%}\".format(np.array(scores).mean()))\n",
        "    accuracy_kbest.append(np.array(scores).mean())\n",
        "    std_kbest.append(np.array(scores).std())\n",
        "    #f1_scores.append(np.array(f1_score).mean())\n",
        "    #f1_scores_std.append(np.array(f1_score).std())\n"
      ],
      "execution_count": 181,
      "outputs": [
        {
          "output_type": "stream",
          "text": [
            "==============================\n",
            "KNeighborsClassifier\n",
            "****Results****\n",
            "Accuracy: 69.0441%\n",
            "==============================\n",
            "SVC\n",
            "****Results****\n",
            "Accuracy: 66.9118%\n",
            "==============================\n",
            "NuSVC\n",
            "****Results****\n",
            "Accuracy: 70.3676%\n",
            "==============================\n",
            "DecisionTreeClassifier\n",
            "****Results****\n",
            "Accuracy: 63.3088%\n",
            "==============================\n",
            "RandomForestClassifier\n",
            "****Results****\n",
            "Accuracy: 62.0588%\n",
            "==============================\n",
            "AdaBoostClassifier\n",
            "****Results****\n",
            "Accuracy: 68.8971%\n",
            "==============================\n",
            "GradientBoostingClassifier\n",
            "****Results****\n",
            "Accuracy: 64.3382%\n",
            "==============================\n",
            "GaussianNB\n",
            "****Results****\n",
            "Accuracy: 63.0147%\n",
            "==============================\n",
            "LinearDiscriminantAnalysis\n",
            "****Results****\n",
            "Accuracy: 71.4706%\n",
            "==============================\n",
            "QuadraticDiscriminantAnalysis\n",
            "****Results****\n",
            "Accuracy: 72.6471%\n",
            "==============================\n",
            "LogisticRegression\n",
            "****Results****\n",
            "Accuracy: 72.7941%\n"
          ],
          "name": "stdout"
        }
      ]
    },
    {
      "cell_type": "code",
      "metadata": {
        "id": "Wbl3_Cs9rnNh",
        "colab_type": "code",
        "colab": {}
      },
      "source": [
        ""
      ],
      "execution_count": 0,
      "outputs": []
    },
    {
      "cell_type": "markdown",
      "metadata": {
        "id": "N40_Zc8nsiU3",
        "colab_type": "text"
      },
      "source": [
        "# VarianceThreshold"
      ]
    },
    {
      "cell_type": "code",
      "metadata": {
        "colab_type": "code",
        "id": "hqPon3DushYn",
        "colab": {}
      },
      "source": [
        "from sklearn.feature_selection import VarianceThreshold\n",
        "clf = SVC(kernel='rbf')\n",
        "selector = VarianceThreshold(0.05)\n",
        "#pipeline = Pipeline([('selector',algo), ('estimator', clf)])\n",
        "pipeline = Pipeline([('transformer', sc),('selector',selector), ('estimator', clf)])\n"
      ],
      "execution_count": 0,
      "outputs": []
    },
    {
      "cell_type": "code",
      "metadata": {
        "colab_type": "code",
        "id": "zH6sK58CshYp",
        "outputId": "c60d1414-5327-4f34-a895-57b3f4cd759a",
        "colab": {
          "base_uri": "https://localhost:8080/",
          "height": 1000
        }
      },
      "source": [
        "\n",
        "import warnings\n",
        "warnings.simplefilter(action='ignore', category=FutureWarning)\n",
        "\n",
        "accuracy_var=[]\n",
        "std_var=[]\n",
        "f1_scores=[]\n",
        "f1_scores_std=[]\n",
        "for clfs in classifiers:\n",
        "    pipeline.set_params(estimator = clfs)\n",
        "    name = clfs.__class__.__name__\n",
        "    \n",
        "    print(\"=\"*30)\n",
        "    print(name)       \n",
        "    print('****Results****')\n",
        "    scores = cross_val_score(pipeline, X, y, cv=5)\n",
        "    #f1_score = cross_val_score(clf, X_rfe, y, cv=5,scoring='f1')\n",
        "    print(\"Accuracy: {:.4%}\".format(np.array(scores).mean()))\n",
        "    accuracy_var.append(np.array(scores).mean())\n",
        "    std_var.append(np.array(scores).std())\n",
        "    #f1_scores.append(np.array(f1_score).mean())\n",
        "    #f1_scores_std.append(np.array(f1_score).std())\n"
      ],
      "execution_count": 183,
      "outputs": [
        {
          "output_type": "stream",
          "text": [
            "==============================\n",
            "KNeighborsClassifier\n",
            "****Results****\n",
            "Accuracy: 72.6471%\n",
            "==============================\n",
            "SVC\n",
            "****Results****\n",
            "Accuracy: 77.3529%\n",
            "==============================\n",
            "NuSVC\n",
            "****Results****\n",
            "Accuracy: 77.3529%\n",
            "==============================\n",
            "DecisionTreeClassifier\n",
            "****Results****\n",
            "Accuracy: 75.0735%\n",
            "==============================\n",
            "RandomForestClassifier\n",
            "****Results****\n",
            "Accuracy: 65.6618%\n",
            "==============================\n",
            "AdaBoostClassifier\n",
            "****Results****\n",
            "Accuracy: 63.0882%\n",
            "==============================\n",
            "GradientBoostingClassifier\n",
            "****Results****\n",
            "Accuracy: 70.2941%\n",
            "==============================\n",
            "GaussianNB\n",
            "****Results****\n",
            "Accuracy: 64.2647%\n",
            "==============================\n",
            "LinearDiscriminantAnalysis\n",
            "****Results****\n",
            "Accuracy: 65.6618%\n",
            "==============================\n",
            "QuadraticDiscriminantAnalysis\n",
            "****Results****\n"
          ],
          "name": "stdout"
        },
        {
          "output_type": "stream",
          "text": [
            "/usr/local/lib/python3.6/dist-packages/sklearn/discriminant_analysis.py:388: UserWarning: Variables are collinear.\n",
            "  warnings.warn(\"Variables are collinear.\")\n",
            "/usr/local/lib/python3.6/dist-packages/sklearn/discriminant_analysis.py:388: UserWarning: Variables are collinear.\n",
            "  warnings.warn(\"Variables are collinear.\")\n",
            "/usr/local/lib/python3.6/dist-packages/sklearn/discriminant_analysis.py:388: UserWarning: Variables are collinear.\n",
            "  warnings.warn(\"Variables are collinear.\")\n",
            "/usr/local/lib/python3.6/dist-packages/sklearn/discriminant_analysis.py:388: UserWarning: Variables are collinear.\n",
            "  warnings.warn(\"Variables are collinear.\")\n",
            "/usr/local/lib/python3.6/dist-packages/sklearn/discriminant_analysis.py:388: UserWarning: Variables are collinear.\n",
            "  warnings.warn(\"Variables are collinear.\")\n",
            "/usr/local/lib/python3.6/dist-packages/sklearn/discriminant_analysis.py:693: UserWarning: Variables are collinear\n",
            "  warnings.warn(\"Variables are collinear\")\n",
            "/usr/local/lib/python3.6/dist-packages/sklearn/discriminant_analysis.py:693: UserWarning: Variables are collinear\n",
            "  warnings.warn(\"Variables are collinear\")\n",
            "/usr/local/lib/python3.6/dist-packages/sklearn/discriminant_analysis.py:693: UserWarning: Variables are collinear\n",
            "  warnings.warn(\"Variables are collinear\")\n",
            "/usr/local/lib/python3.6/dist-packages/sklearn/discriminant_analysis.py:693: UserWarning: Variables are collinear\n",
            "  warnings.warn(\"Variables are collinear\")\n",
            "/usr/local/lib/python3.6/dist-packages/sklearn/discriminant_analysis.py:693: UserWarning: Variables are collinear\n",
            "  warnings.warn(\"Variables are collinear\")\n"
          ],
          "name": "stderr"
        },
        {
          "output_type": "stream",
          "text": [
            "Accuracy: 46.3235%\n",
            "==============================\n",
            "LogisticRegression\n",
            "****Results****\n",
            "Accuracy: 72.5735%\n"
          ],
          "name": "stdout"
        }
      ]
    },
    {
      "cell_type": "markdown",
      "metadata": {
        "id": "utsqZIs_qvKn",
        "colab_type": "text"
      },
      "source": [
        "# Result"
      ]
    },
    {
      "cell_type": "code",
      "metadata": {
        "id": "X9-EzT5grnQp",
        "colab_type": "code",
        "outputId": "a8aa567a-53f4-42de-f675-c0ddb651fd51",
        "colab": {
          "base_uri": "https://localhost:8080/",
          "height": 34
        }
      },
      "source": [
        "len(accuracy),len(accuracy_pca),len(accuracy_rfe),len(accuracy_kbest),len(accuracy_var)"
      ],
      "execution_count": 184,
      "outputs": [
        {
          "output_type": "execute_result",
          "data": {
            "text/plain": [
              "(11, 11, 11, 11, 11)"
            ]
          },
          "metadata": {
            "tags": []
          },
          "execution_count": 184
        }
      ]
    },
    {
      "cell_type": "code",
      "metadata": {
        "id": "mtlBCPBtZjDm",
        "colab_type": "code",
        "colab": {}
      },
      "source": [
        "result=pd.DataFrame([accuracy,accuracy_pca,accuracy_rfe,accuracy_kbest,accuracy_var],\n",
        "                    index=['Accuracy','PCA',\"RFE\",'kbest','VAR'],\n",
        "                    columns=['KNN','SVC','nuSCV','DT','RF','Ada','GB','NB','LDA','QDA','LR'])"
      ],
      "execution_count": 0,
      "outputs": []
    },
    {
      "cell_type": "code",
      "metadata": {
        "id": "oDxtmxamaD9y",
        "colab_type": "code",
        "colab": {}
      },
      "source": [
        "result=result.T"
      ],
      "execution_count": 0,
      "outputs": []
    },
    {
      "cell_type": "code",
      "metadata": {
        "id": "H2iNzVqt8m7j",
        "colab_type": "code",
        "outputId": "109b5976-64b9-4fd5-bb39-b1c00671b21e",
        "colab": {
          "base_uri": "https://localhost:8080/",
          "height": 265
        }
      },
      "source": [
        "\n",
        "def _color_red_or_green(val):\n",
        "    color = 'red' if val < 0.7 else 'green'\n",
        "    return 'color: %s' % color\n",
        "result.style.applymap(_color_red_or_green)"
      ],
      "execution_count": 187,
      "outputs": [
        {
          "output_type": "execute_result",
          "data": {
            "text/html": [
              "<style  type=\"text/css\" >\n",
              "    #T_b2288f06_1e62_11ea_980a_0242ac1c0002row0_col0 {\n",
              "            color:  green;\n",
              "        }    #T_b2288f06_1e62_11ea_980a_0242ac1c0002row0_col1 {\n",
              "            color:  red;\n",
              "        }    #T_b2288f06_1e62_11ea_980a_0242ac1c0002row0_col2 {\n",
              "            color:  red;\n",
              "        }    #T_b2288f06_1e62_11ea_980a_0242ac1c0002row0_col3 {\n",
              "            color:  red;\n",
              "        }    #T_b2288f06_1e62_11ea_980a_0242ac1c0002row0_col4 {\n",
              "            color:  green;\n",
              "        }    #T_b2288f06_1e62_11ea_980a_0242ac1c0002row1_col0 {\n",
              "            color:  green;\n",
              "        }    #T_b2288f06_1e62_11ea_980a_0242ac1c0002row1_col1 {\n",
              "            color:  red;\n",
              "        }    #T_b2288f06_1e62_11ea_980a_0242ac1c0002row1_col2 {\n",
              "            color:  red;\n",
              "        }    #T_b2288f06_1e62_11ea_980a_0242ac1c0002row1_col3 {\n",
              "            color:  red;\n",
              "        }    #T_b2288f06_1e62_11ea_980a_0242ac1c0002row1_col4 {\n",
              "            color:  green;\n",
              "        }    #T_b2288f06_1e62_11ea_980a_0242ac1c0002row2_col0 {\n",
              "            color:  green;\n",
              "        }    #T_b2288f06_1e62_11ea_980a_0242ac1c0002row2_col1 {\n",
              "            color:  green;\n",
              "        }    #T_b2288f06_1e62_11ea_980a_0242ac1c0002row2_col2 {\n",
              "            color:  green;\n",
              "        }    #T_b2288f06_1e62_11ea_980a_0242ac1c0002row2_col3 {\n",
              "            color:  green;\n",
              "        }    #T_b2288f06_1e62_11ea_980a_0242ac1c0002row2_col4 {\n",
              "            color:  green;\n",
              "        }    #T_b2288f06_1e62_11ea_980a_0242ac1c0002row3_col0 {\n",
              "            color:  green;\n",
              "        }    #T_b2288f06_1e62_11ea_980a_0242ac1c0002row3_col1 {\n",
              "            color:  red;\n",
              "        }    #T_b2288f06_1e62_11ea_980a_0242ac1c0002row3_col2 {\n",
              "            color:  red;\n",
              "        }    #T_b2288f06_1e62_11ea_980a_0242ac1c0002row3_col3 {\n",
              "            color:  red;\n",
              "        }    #T_b2288f06_1e62_11ea_980a_0242ac1c0002row3_col4 {\n",
              "            color:  green;\n",
              "        }    #T_b2288f06_1e62_11ea_980a_0242ac1c0002row4_col0 {\n",
              "            color:  green;\n",
              "        }    #T_b2288f06_1e62_11ea_980a_0242ac1c0002row4_col1 {\n",
              "            color:  red;\n",
              "        }    #T_b2288f06_1e62_11ea_980a_0242ac1c0002row4_col2 {\n",
              "            color:  red;\n",
              "        }    #T_b2288f06_1e62_11ea_980a_0242ac1c0002row4_col3 {\n",
              "            color:  red;\n",
              "        }    #T_b2288f06_1e62_11ea_980a_0242ac1c0002row4_col4 {\n",
              "            color:  red;\n",
              "        }    #T_b2288f06_1e62_11ea_980a_0242ac1c0002row5_col0 {\n",
              "            color:  red;\n",
              "        }    #T_b2288f06_1e62_11ea_980a_0242ac1c0002row5_col1 {\n",
              "            color:  red;\n",
              "        }    #T_b2288f06_1e62_11ea_980a_0242ac1c0002row5_col2 {\n",
              "            color:  red;\n",
              "        }    #T_b2288f06_1e62_11ea_980a_0242ac1c0002row5_col3 {\n",
              "            color:  red;\n",
              "        }    #T_b2288f06_1e62_11ea_980a_0242ac1c0002row5_col4 {\n",
              "            color:  red;\n",
              "        }    #T_b2288f06_1e62_11ea_980a_0242ac1c0002row6_col0 {\n",
              "            color:  green;\n",
              "        }    #T_b2288f06_1e62_11ea_980a_0242ac1c0002row6_col1 {\n",
              "            color:  red;\n",
              "        }    #T_b2288f06_1e62_11ea_980a_0242ac1c0002row6_col2 {\n",
              "            color:  red;\n",
              "        }    #T_b2288f06_1e62_11ea_980a_0242ac1c0002row6_col3 {\n",
              "            color:  red;\n",
              "        }    #T_b2288f06_1e62_11ea_980a_0242ac1c0002row6_col4 {\n",
              "            color:  green;\n",
              "        }    #T_b2288f06_1e62_11ea_980a_0242ac1c0002row7_col0 {\n",
              "            color:  red;\n",
              "        }    #T_b2288f06_1e62_11ea_980a_0242ac1c0002row7_col1 {\n",
              "            color:  green;\n",
              "        }    #T_b2288f06_1e62_11ea_980a_0242ac1c0002row7_col2 {\n",
              "            color:  red;\n",
              "        }    #T_b2288f06_1e62_11ea_980a_0242ac1c0002row7_col3 {\n",
              "            color:  red;\n",
              "        }    #T_b2288f06_1e62_11ea_980a_0242ac1c0002row7_col4 {\n",
              "            color:  red;\n",
              "        }    #T_b2288f06_1e62_11ea_980a_0242ac1c0002row8_col0 {\n",
              "            color:  red;\n",
              "        }    #T_b2288f06_1e62_11ea_980a_0242ac1c0002row8_col1 {\n",
              "            color:  red;\n",
              "        }    #T_b2288f06_1e62_11ea_980a_0242ac1c0002row8_col2 {\n",
              "            color:  green;\n",
              "        }    #T_b2288f06_1e62_11ea_980a_0242ac1c0002row8_col3 {\n",
              "            color:  green;\n",
              "        }    #T_b2288f06_1e62_11ea_980a_0242ac1c0002row8_col4 {\n",
              "            color:  red;\n",
              "        }    #T_b2288f06_1e62_11ea_980a_0242ac1c0002row9_col0 {\n",
              "            color:  red;\n",
              "        }    #T_b2288f06_1e62_11ea_980a_0242ac1c0002row9_col1 {\n",
              "            color:  red;\n",
              "        }    #T_b2288f06_1e62_11ea_980a_0242ac1c0002row9_col2 {\n",
              "            color:  green;\n",
              "        }    #T_b2288f06_1e62_11ea_980a_0242ac1c0002row9_col3 {\n",
              "            color:  green;\n",
              "        }    #T_b2288f06_1e62_11ea_980a_0242ac1c0002row9_col4 {\n",
              "            color:  red;\n",
              "        }    #T_b2288f06_1e62_11ea_980a_0242ac1c0002row10_col0 {\n",
              "            color:  green;\n",
              "        }    #T_b2288f06_1e62_11ea_980a_0242ac1c0002row10_col1 {\n",
              "            color:  red;\n",
              "        }    #T_b2288f06_1e62_11ea_980a_0242ac1c0002row10_col2 {\n",
              "            color:  green;\n",
              "        }    #T_b2288f06_1e62_11ea_980a_0242ac1c0002row10_col3 {\n",
              "            color:  green;\n",
              "        }    #T_b2288f06_1e62_11ea_980a_0242ac1c0002row10_col4 {\n",
              "            color:  green;\n",
              "        }</style><table id=\"T_b2288f06_1e62_11ea_980a_0242ac1c0002\" ><thead>    <tr>        <th class=\"blank level0\" ></th>        <th class=\"col_heading level0 col0\" >Accuracy</th>        <th class=\"col_heading level0 col1\" >PCA</th>        <th class=\"col_heading level0 col2\" >RFE</th>        <th class=\"col_heading level0 col3\" >kbest</th>        <th class=\"col_heading level0 col4\" >VAR</th>    </tr></thead><tbody>\n",
              "                <tr>\n",
              "                        <th id=\"T_b2288f06_1e62_11ea_980a_0242ac1c0002level0_row0\" class=\"row_heading level0 row0\" >KNN</th>\n",
              "                        <td id=\"T_b2288f06_1e62_11ea_980a_0242ac1c0002row0_col0\" class=\"data row0 col0\" >0.726471</td>\n",
              "                        <td id=\"T_b2288f06_1e62_11ea_980a_0242ac1c0002row0_col1\" class=\"data row0 col1\" >0.691912</td>\n",
              "                        <td id=\"T_b2288f06_1e62_11ea_980a_0242ac1c0002row0_col2\" class=\"data row0 col2\" >0.690441</td>\n",
              "                        <td id=\"T_b2288f06_1e62_11ea_980a_0242ac1c0002row0_col3\" class=\"data row0 col3\" >0.690441</td>\n",
              "                        <td id=\"T_b2288f06_1e62_11ea_980a_0242ac1c0002row0_col4\" class=\"data row0 col4\" >0.726471</td>\n",
              "            </tr>\n",
              "            <tr>\n",
              "                        <th id=\"T_b2288f06_1e62_11ea_980a_0242ac1c0002level0_row1\" class=\"row_heading level0 row1\" >SVC</th>\n",
              "                        <td id=\"T_b2288f06_1e62_11ea_980a_0242ac1c0002row1_col0\" class=\"data row1 col0\" >0.773529</td>\n",
              "                        <td id=\"T_b2288f06_1e62_11ea_980a_0242ac1c0002row1_col1\" class=\"data row1 col1\" >0.653676</td>\n",
              "                        <td id=\"T_b2288f06_1e62_11ea_980a_0242ac1c0002row1_col2\" class=\"data row1 col2\" >0.669118</td>\n",
              "                        <td id=\"T_b2288f06_1e62_11ea_980a_0242ac1c0002row1_col3\" class=\"data row1 col3\" >0.669118</td>\n",
              "                        <td id=\"T_b2288f06_1e62_11ea_980a_0242ac1c0002row1_col4\" class=\"data row1 col4\" >0.773529</td>\n",
              "            </tr>\n",
              "            <tr>\n",
              "                        <th id=\"T_b2288f06_1e62_11ea_980a_0242ac1c0002level0_row2\" class=\"row_heading level0 row2\" >nuSCV</th>\n",
              "                        <td id=\"T_b2288f06_1e62_11ea_980a_0242ac1c0002row2_col0\" class=\"data row2 col0\" >0.773529</td>\n",
              "                        <td id=\"T_b2288f06_1e62_11ea_980a_0242ac1c0002row2_col1\" class=\"data row2 col1\" >0.714706</td>\n",
              "                        <td id=\"T_b2288f06_1e62_11ea_980a_0242ac1c0002row2_col2\" class=\"data row2 col2\" >0.703676</td>\n",
              "                        <td id=\"T_b2288f06_1e62_11ea_980a_0242ac1c0002row2_col3\" class=\"data row2 col3\" >0.703676</td>\n",
              "                        <td id=\"T_b2288f06_1e62_11ea_980a_0242ac1c0002row2_col4\" class=\"data row2 col4\" >0.773529</td>\n",
              "            </tr>\n",
              "            <tr>\n",
              "                        <th id=\"T_b2288f06_1e62_11ea_980a_0242ac1c0002level0_row3\" class=\"row_heading level0 row3\" >DT</th>\n",
              "                        <td id=\"T_b2288f06_1e62_11ea_980a_0242ac1c0002row3_col0\" class=\"data row3 col0\" >0.752206</td>\n",
              "                        <td id=\"T_b2288f06_1e62_11ea_980a_0242ac1c0002row3_col1\" class=\"data row3 col1\" >0.525735</td>\n",
              "                        <td id=\"T_b2288f06_1e62_11ea_980a_0242ac1c0002row3_col2\" class=\"data row3 col2\" >0.658088</td>\n",
              "                        <td id=\"T_b2288f06_1e62_11ea_980a_0242ac1c0002row3_col3\" class=\"data row3 col3\" >0.633088</td>\n",
              "                        <td id=\"T_b2288f06_1e62_11ea_980a_0242ac1c0002row3_col4\" class=\"data row3 col4\" >0.750735</td>\n",
              "            </tr>\n",
              "            <tr>\n",
              "                        <th id=\"T_b2288f06_1e62_11ea_980a_0242ac1c0002level0_row4\" class=\"row_heading level0 row4\" >RF</th>\n",
              "                        <td id=\"T_b2288f06_1e62_11ea_980a_0242ac1c0002row4_col0\" class=\"data row4 col0\" >0.775</td>\n",
              "                        <td id=\"T_b2288f06_1e62_11ea_980a_0242ac1c0002row4_col1\" class=\"data row4 col1\" >0.606618</td>\n",
              "                        <td id=\"T_b2288f06_1e62_11ea_980a_0242ac1c0002row4_col2\" class=\"data row4 col2\" >0.679412</td>\n",
              "                        <td id=\"T_b2288f06_1e62_11ea_980a_0242ac1c0002row4_col3\" class=\"data row4 col3\" >0.620588</td>\n",
              "                        <td id=\"T_b2288f06_1e62_11ea_980a_0242ac1c0002row4_col4\" class=\"data row4 col4\" >0.656618</td>\n",
              "            </tr>\n",
              "            <tr>\n",
              "                        <th id=\"T_b2288f06_1e62_11ea_980a_0242ac1c0002level0_row5\" class=\"row_heading level0 row5\" >Ada</th>\n",
              "                        <td id=\"T_b2288f06_1e62_11ea_980a_0242ac1c0002row5_col0\" class=\"data row5 col0\" >0.630882</td>\n",
              "                        <td id=\"T_b2288f06_1e62_11ea_980a_0242ac1c0002row5_col1\" class=\"data row5 col1\" >0.667647</td>\n",
              "                        <td id=\"T_b2288f06_1e62_11ea_980a_0242ac1c0002row5_col2\" class=\"data row5 col2\" >0.688971</td>\n",
              "                        <td id=\"T_b2288f06_1e62_11ea_980a_0242ac1c0002row5_col3\" class=\"data row5 col3\" >0.688971</td>\n",
              "                        <td id=\"T_b2288f06_1e62_11ea_980a_0242ac1c0002row5_col4\" class=\"data row5 col4\" >0.630882</td>\n",
              "            </tr>\n",
              "            <tr>\n",
              "                        <th id=\"T_b2288f06_1e62_11ea_980a_0242ac1c0002level0_row6\" class=\"row_heading level0 row6\" >GB</th>\n",
              "                        <td id=\"T_b2288f06_1e62_11ea_980a_0242ac1c0002row6_col0\" class=\"data row6 col0\" >0.703676</td>\n",
              "                        <td id=\"T_b2288f06_1e62_11ea_980a_0242ac1c0002row6_col1\" class=\"data row6 col1\" >0.656618</td>\n",
              "                        <td id=\"T_b2288f06_1e62_11ea_980a_0242ac1c0002row6_col2\" class=\"data row6 col2\" >0.643382</td>\n",
              "                        <td id=\"T_b2288f06_1e62_11ea_980a_0242ac1c0002row6_col3\" class=\"data row6 col3\" >0.643382</td>\n",
              "                        <td id=\"T_b2288f06_1e62_11ea_980a_0242ac1c0002row6_col4\" class=\"data row6 col4\" >0.702941</td>\n",
              "            </tr>\n",
              "            <tr>\n",
              "                        <th id=\"T_b2288f06_1e62_11ea_980a_0242ac1c0002level0_row7\" class=\"row_heading level0 row7\" >NB</th>\n",
              "                        <td id=\"T_b2288f06_1e62_11ea_980a_0242ac1c0002row7_col0\" class=\"data row7 col0\" >0.642647</td>\n",
              "                        <td id=\"T_b2288f06_1e62_11ea_980a_0242ac1c0002row7_col1\" class=\"data row7 col1\" >0.738971</td>\n",
              "                        <td id=\"T_b2288f06_1e62_11ea_980a_0242ac1c0002row7_col2\" class=\"data row7 col2\" >0.630147</td>\n",
              "                        <td id=\"T_b2288f06_1e62_11ea_980a_0242ac1c0002row7_col3\" class=\"data row7 col3\" >0.630147</td>\n",
              "                        <td id=\"T_b2288f06_1e62_11ea_980a_0242ac1c0002row7_col4\" class=\"data row7 col4\" >0.642647</td>\n",
              "            </tr>\n",
              "            <tr>\n",
              "                        <th id=\"T_b2288f06_1e62_11ea_980a_0242ac1c0002level0_row8\" class=\"row_heading level0 row8\" >LDA</th>\n",
              "                        <td id=\"T_b2288f06_1e62_11ea_980a_0242ac1c0002row8_col0\" class=\"data row8 col0\" >0.656618</td>\n",
              "                        <td id=\"T_b2288f06_1e62_11ea_980a_0242ac1c0002row8_col1\" class=\"data row8 col1\" >0.632353</td>\n",
              "                        <td id=\"T_b2288f06_1e62_11ea_980a_0242ac1c0002row8_col2\" class=\"data row8 col2\" >0.714706</td>\n",
              "                        <td id=\"T_b2288f06_1e62_11ea_980a_0242ac1c0002row8_col3\" class=\"data row8 col3\" >0.714706</td>\n",
              "                        <td id=\"T_b2288f06_1e62_11ea_980a_0242ac1c0002row8_col4\" class=\"data row8 col4\" >0.656618</td>\n",
              "            </tr>\n",
              "            <tr>\n",
              "                        <th id=\"T_b2288f06_1e62_11ea_980a_0242ac1c0002level0_row9\" class=\"row_heading level0 row9\" >QDA</th>\n",
              "                        <td id=\"T_b2288f06_1e62_11ea_980a_0242ac1c0002row9_col0\" class=\"data row9 col0\" >0.463235</td>\n",
              "                        <td id=\"T_b2288f06_1e62_11ea_980a_0242ac1c0002row9_col1\" class=\"data row9 col1\" >0.667647</td>\n",
              "                        <td id=\"T_b2288f06_1e62_11ea_980a_0242ac1c0002row9_col2\" class=\"data row9 col2\" >0.726471</td>\n",
              "                        <td id=\"T_b2288f06_1e62_11ea_980a_0242ac1c0002row9_col3\" class=\"data row9 col3\" >0.726471</td>\n",
              "                        <td id=\"T_b2288f06_1e62_11ea_980a_0242ac1c0002row9_col4\" class=\"data row9 col4\" >0.463235</td>\n",
              "            </tr>\n",
              "            <tr>\n",
              "                        <th id=\"T_b2288f06_1e62_11ea_980a_0242ac1c0002level0_row10\" class=\"row_heading level0 row10\" >LR</th>\n",
              "                        <td id=\"T_b2288f06_1e62_11ea_980a_0242ac1c0002row10_col0\" class=\"data row10 col0\" >0.725735</td>\n",
              "                        <td id=\"T_b2288f06_1e62_11ea_980a_0242ac1c0002row10_col1\" class=\"data row10 col1\" >0.655147</td>\n",
              "                        <td id=\"T_b2288f06_1e62_11ea_980a_0242ac1c0002row10_col2\" class=\"data row10 col2\" >0.727941</td>\n",
              "                        <td id=\"T_b2288f06_1e62_11ea_980a_0242ac1c0002row10_col3\" class=\"data row10 col3\" >0.727941</td>\n",
              "                        <td id=\"T_b2288f06_1e62_11ea_980a_0242ac1c0002row10_col4\" class=\"data row10 col4\" >0.725735</td>\n",
              "            </tr>\n",
              "    </tbody></table>"
            ],
            "text/plain": [
              "<pandas.io.formats.style.Styler at 0x7f1e47462438>"
            ]
          },
          "metadata": {
            "tags": []
          },
          "execution_count": 187
        }
      ]
    },
    {
      "cell_type": "code",
      "metadata": {
        "id": "JjpOmEheLXNa",
        "colab_type": "code",
        "colab": {}
      },
      "source": [
        ""
      ],
      "execution_count": 0,
      "outputs": []
    }
  ]
}